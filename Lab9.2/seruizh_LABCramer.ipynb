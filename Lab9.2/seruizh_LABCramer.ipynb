{
  "nbformat": 4,
  "nbformat_minor": 0,
  "metadata": {
    "colab": {
      "provenance": [],
      "include_colab_link": true
    },
    "kernelspec": {
      "name": "python3",
      "display_name": "Python 3"
    },
    "language_info": {
      "name": "python"
    }
  },
  "cells": [
    {
      "cell_type": "markdown",
      "metadata": {
        "id": "view-in-github",
        "colab_type": "text"
      },
      "source": [
        "<a href=\"https://colab.research.google.com/github/SergioR-02/MetNumUN2024I/blob/main/Lab9.2/seruizh_LABCramer.ipynb\" target=\"_parent\"><img src=\"https://colab.research.google.com/assets/colab-badge.svg\" alt=\"Open In Colab\"/></a>"
      ]
    },
    {
      "cell_type": "markdown",
      "source": [
        "### Cramer by hand\n",
        "\n",
        "$$A = \\left[\n",
        "  \\begin{array}{cc}\n",
        "1 & 2\\\\\n",
        "3 & 4\n",
        "\\end{array}\n",
        "\\right],  \n",
        "b= \\left[\n",
        "\\begin{array}{c}\n",
        "5\\\\\n",
        "6\n",
        "\\end{array}\n",
        "\\right]\n",
        "$$\n",
        "$$\n",
        "Ax =B\n",
        "$$\n",
        "$$  \n",
        "\\left[\n",
        "  \\begin{array}{cc}\n",
        "1 & 2\\\\\n",
        "3 & 4\n",
        "\\end{array}\n",
        "\\right]\n",
        "\\left[\n",
        "\\begin{array}{c}\n",
        "x_1\\\\\n",
        "x_2\n",
        "\\end{array}\n",
        "\\right]  \n",
        "=\n",
        "\\left[\n",
        "\\begin{array}{c}\n",
        "5\\\\\n",
        "6\n",
        "\\end{array}\n",
        "\\right]\n",
        "$$\n",
        "\n",
        "$$Det\\ A =  (1 * 4) - (3 * 2)  = 4 - 6 = -2$$\n",
        "\n",
        "$$A_1 = \\left[\n",
        "  \\begin{array}{cc}\n",
        "5 & 2\\\\\n",
        "6 & 4\n",
        "\\end{array}\n",
        "\\right]\n",
        "$$\n",
        "\n",
        "$$Det\\ A_1 = (5 * 4) - (6 * 2) = 20 - 12 =  8$$\n",
        "\n",
        "$$x_1 =  \\frac{Det\\ A_1}{Det\\ A}= \\frac{8}{-2} =  -4$$\n",
        "\n",
        "$$A_2 = \\left[\n",
        "  \\begin{array}{cc}\n",
        "1 & 5\\\\\n",
        "3 & 6\n",
        "\\end{array}\n",
        "\\right]\n",
        "$$\n",
        "\n",
        "$$Det\\ A_2 = (1*6) - (3*5)  = 6 -15 = -9$$\n",
        "\n",
        "$$x_2 = \\frac{Det\\ A_2}{Det\\ A}= \\frac{-9}{-2} =  \\frac{9}{2}$$"
      ],
      "metadata": {
        "id": "SUmNm2PmfHU7"
      }
    },
    {
      "cell_type": "markdown",
      "source": [
        "- ***Adding a single digit to any number requires about 7.30 bits of processing.*** - World Mental Calculation: News and Resources for Competitive and Advanced Mental Calculation https://worldmentalcalculation.com/2019/06/30/fastest-possible-processing-speed-of-the-human-brain/\n",
        "\n",
        "- ***The human brain can process 11 million bits of information every second. But our conscious minds can handle only 40 to 50 bits of information a second.*** - Understanding Unconscious Bias https://www.npr.org/2020/07/14/891140598/understanding-unconscious-bias\n",
        "\n",
        "- ***A new way to analyze human reaction times shows that the brain processes data no faster than 60 bits per second.***- New Measure of Human Brain Processing Speed https://www.technologyreview.com/2009/08/25/210267/new-measure-of-human-brain-processing-speed/\n",
        "\n",
        "\n"
      ],
      "metadata": {
        "id": "3rH8z64pk2XV"
      }
    },
    {
      "cell_type": "markdown",
      "source": [
        "# Number of operations to compute a determinant by cofactor expasion\n",
        "- Cofactor expansion https://people.math.carleton.ca/~kcheung/math/notes/MATH1107/07/07_cofactor_expansion.html\n",
        "## Definition of A(i∣j)\n",
        "Let $A$ be an $n\\times n$ matrix. Let $i,j \\in \\{1,…,n\\}$. We define $A(i∣j)$  to be the matrix obtained from $A$ by removing row $i$ and column $j$ from $A$.\n",
        "\n",
        "## Cofactor formula\n",
        "One way of computing the determinant of an $n\\times n$  matrix\n",
        "\n",
        "$$A = \\left[\n",
        "  \\begin{array}{cccc}\n",
        "a_{11} & a_{12} & \\cdots & a_{1n}\\\\\n",
        "a_{21} & a_{22} & \\cdots & a_{2n}\\\\\n",
        "\\vdots  & \\vdots & \\ddots & \\vdots\\\\\n",
        "a_{n1} & a_{n2} & \\cdots & a_{nn}\\\\\n",
        "\\end{array}\n",
        "\\right]\n",
        "$$\n",
        "is to use the following formula called the cofactor formula.\n",
        "\n",
        "Pick either any $i\\ \\in \\{1,…,n\\}$ (fixed row) or $i\\ \\in \\{1,…,n\\}$ (fixed column). Then\n",
        "\n",
        "$$\\det(A)  = \\sum_{j=1}^n (-1)^{i+j}a_{ij} \\det(A(i∣j)) $$\n",
        "\n",
        "\n",
        "$C_{i,j}= (-1)^{i+j}a_{ij} \\det(A(i∣j))$ is called a cofactor of $A$.\n",
        "\n",
        "$$\\det(A)  = \\sum_{j=1}^n C_{i,j} $$\n",
        "\n"
      ],
      "metadata": {
        "id": "CgrSIpDOnaGQ"
      }
    },
    {
      "cell_type": "code",
      "source": [
        "# Code from https://stackoverflow.com/questions/16510111/computing-determinant-of-a-matrix-nxn-recursively\n",
        "\n",
        "import numpy as np\n",
        "\n",
        "def smaller_matrix(original_matrix,row, column):\n",
        "    for ii in range(len(original_matrix)):\n",
        "        new_matrix=np.delete(original_matrix,ii,0)\n",
        "        new_matrix=np.delete(new_matrix,column,1)\n",
        "        return new_matrix\n",
        "\n",
        "\n",
        "def determinant(matrix):\n",
        "    \"\"\"Returns a determinant of a matrix by recursive method.\"\"\"\n",
        "    (r,c) = matrix.shape\n",
        "    if r != c:\n",
        "        print(\"Error!Not a square matrix!\")\n",
        "        return None\n",
        "    elif r==2:\n",
        "        simple_determinant = matrix[0][0]*matrix[1][1]-matrix[0][1]*matrix[1][0]\n",
        "        return simple_determinant\n",
        "    else:\n",
        "        answer=0\n",
        "        for j in range(r):\n",
        "            cofactor = (-1)**(0+j) * matrix[0][j] * determinant(smaller_matrix(matrix, 0, j))\n",
        "            answer+= cofactor\n",
        "        return answer"
      ],
      "metadata": {
        "id": "J-joKRBhC7eF"
      },
      "execution_count": 1,
      "outputs": []
    },
    {
      "cell_type": "code",
      "source": [
        "#test the function\n",
        "#Only works for numpy.array input\n",
        "np.random.seed(1)"
      ],
      "metadata": {
        "id": "Il2pcRD4DptG"
      },
      "execution_count": 2,
      "outputs": []
    },
    {
      "cell_type": "code",
      "source": [
        "n = 2\n",
        "matrix=np.random.randint(-5,5,size=(n,n))\n",
        "matrix"
      ],
      "metadata": {
        "colab": {
          "base_uri": "https://localhost:8080/"
        },
        "id": "AgKC1-aiFRW2",
        "outputId": "2befcbe4-f3d2-4c93-b326-8ec4faba1ba1"
      },
      "execution_count": 3,
      "outputs": [
        {
          "output_type": "execute_result",
          "data": {
            "text/plain": [
              "array([[0, 3],\n",
              "       [4, 0]])"
            ]
          },
          "metadata": {},
          "execution_count": 3
        }
      ]
    },
    {
      "cell_type": "code",
      "source": [
        "determinant(matrix)"
      ],
      "metadata": {
        "colab": {
          "base_uri": "https://localhost:8080/"
        },
        "outputId": "15669846-f556-4c47-f082-66d776ee630e",
        "id": "oI0rUp-SDptH"
      },
      "execution_count": 4,
      "outputs": [
        {
          "output_type": "execute_result",
          "data": {
            "text/plain": [
              "-12"
            ]
          },
          "metadata": {},
          "execution_count": 4
        }
      ]
    },
    {
      "cell_type": "code",
      "source": [
        "np.linalg.det(matrix)"
      ],
      "metadata": {
        "colab": {
          "base_uri": "https://localhost:8080/"
        },
        "id": "iqZv7iK-KKXH",
        "outputId": "19da31f7-dfbe-4589-f72c-6c1933541404"
      },
      "execution_count": 5,
      "outputs": [
        {
          "output_type": "execute_result",
          "data": {
            "text/plain": [
              "-12.0"
            ]
          },
          "metadata": {},
          "execution_count": 5
        }
      ]
    },
    {
      "cell_type": "code",
      "source": [
        "round(np.linalg.det(matrix))"
      ],
      "metadata": {
        "colab": {
          "base_uri": "https://localhost:8080/"
        },
        "id": "sY21rHM-KdlO",
        "outputId": "1c955851-0297-465f-8f4b-8ad0b20c1865"
      },
      "execution_count": 6,
      "outputs": [
        {
          "output_type": "execute_result",
          "data": {
            "text/plain": [
              "-12"
            ]
          },
          "metadata": {},
          "execution_count": 6
        }
      ]
    },
    {
      "cell_type": "code",
      "source": [
        "n = 5\n",
        "matrix=np.diag(np.random.randint(-10,10,size=(n)))\n",
        "matrix"
      ],
      "metadata": {
        "colab": {
          "base_uri": "https://localhost:8080/"
        },
        "id": "-QXGZWFIDs5k",
        "outputId": "12bdc023-85ba-4a2a-cdad-677ea88644bf"
      },
      "execution_count": 7,
      "outputs": [
        {
          "output_type": "execute_result",
          "data": {
            "text/plain": [
              "array([[  5,   0,   0,   0,   0],\n",
              "       [  0, -10,   0,   0,   0],\n",
              "       [  0,   0,   6,   0,   0],\n",
              "       [  0,   0,   0,  -9,   0],\n",
              "       [  0,   0,   0,   0,   2]])"
            ]
          },
          "metadata": {},
          "execution_count": 7
        }
      ]
    },
    {
      "cell_type": "code",
      "source": [
        "determinant(matrix)"
      ],
      "metadata": {
        "colab": {
          "base_uri": "https://localhost:8080/"
        },
        "id": "VP6hRwhwD-3W",
        "outputId": "3700494e-a7a8-411f-838c-116e1b6aadf0"
      },
      "execution_count": 8,
      "outputs": [
        {
          "output_type": "execute_result",
          "data": {
            "text/plain": [
              "5400"
            ]
          },
          "metadata": {},
          "execution_count": 8
        }
      ]
    },
    {
      "cell_type": "code",
      "source": [
        "np.linalg.det(matrix)"
      ],
      "metadata": {
        "colab": {
          "base_uri": "https://localhost:8080/"
        },
        "id": "8NV7Zvp-KtRz",
        "outputId": "25607158-df57-41f5-b21f-d57fd31608af"
      },
      "execution_count": 9,
      "outputs": [
        {
          "output_type": "execute_result",
          "data": {
            "text/plain": [
              "5400.000000000003"
            ]
          },
          "metadata": {},
          "execution_count": 9
        }
      ]
    },
    {
      "cell_type": "code",
      "source": [
        "round(np.linalg.det(matrix))"
      ],
      "metadata": {
        "colab": {
          "base_uri": "https://localhost:8080/"
        },
        "id": "HXKK3weLKt5T",
        "outputId": "7f81cbd0-dca2-4d61-d666-feec2777abb2"
      },
      "execution_count": 10,
      "outputs": [
        {
          "output_type": "execute_result",
          "data": {
            "text/plain": [
              "5400"
            ]
          },
          "metadata": {},
          "execution_count": 10
        }
      ]
    },
    {
      "cell_type": "code",
      "source": [
        "# Modified from the previous code\n",
        "import numpy as np\n",
        "\n",
        "# A a squared numpy matrix\n",
        "def det(A):\n",
        "    \"\"\"Returns a determinant of a matrix by recursive method.\"\"\"\n",
        "    (r,c) = A.shape\n",
        "    if r != c:\n",
        "        print(\"Error!Not a square matrix!\")\n",
        "        return None\n",
        "    elif r==1:\n",
        "          # the code with  r==2 is more efficient but we use this\n",
        "         # because the number of operations is easier to compute\n",
        "        return A[0][0]\n",
        "    else:\n",
        "        answer=0\n",
        "        for j in range(r):\n",
        "            s = 1 if (0+j)%2 == 0 else -1\n",
        "            Aij = np.delete(A,0,0)\n",
        "            Aij = np.delete(Aij,j,1)\n",
        "            cofactor = (s) * A[0][j] * det(Aij)\n",
        "            answer+= cofactor\n",
        "        return answer"
      ],
      "metadata": {
        "id": "B258g8lnBgnG"
      },
      "execution_count": 11,
      "outputs": []
    },
    {
      "cell_type": "code",
      "source": [
        "#test the function\n",
        "#Only works for numpy.array input\n",
        "np.random.seed(1)"
      ],
      "metadata": {
        "id": "ZR2mjlqiGdM6"
      },
      "execution_count": 12,
      "outputs": []
    },
    {
      "cell_type": "code",
      "source": [
        "n = 2\n",
        "A=np.random.randint(-5,5,size=(n,n))\n",
        "A"
      ],
      "metadata": {
        "id": "jPpBCFaoGlak",
        "colab": {
          "base_uri": "https://localhost:8080/"
        },
        "outputId": "9bce0238-89e0-4a98-864e-c0e911a057e9"
      },
      "execution_count": 13,
      "outputs": [
        {
          "output_type": "execute_result",
          "data": {
            "text/plain": [
              "array([[0, 3],\n",
              "       [4, 0]])"
            ]
          },
          "metadata": {},
          "execution_count": 13
        }
      ]
    },
    {
      "cell_type": "code",
      "source": [
        "det(A)"
      ],
      "metadata": {
        "colab": {
          "base_uri": "https://localhost:8080/"
        },
        "outputId": "2d1f03ef-51e9-48d5-e689-05cffafb2c10",
        "id": "WKbuirZeGlak"
      },
      "execution_count": 14,
      "outputs": [
        {
          "output_type": "execute_result",
          "data": {
            "text/plain": [
              "-12"
            ]
          },
          "metadata": {},
          "execution_count": 14
        }
      ]
    },
    {
      "cell_type": "code",
      "source": [
        "determinant(A)"
      ],
      "metadata": {
        "colab": {
          "base_uri": "https://localhost:8080/"
        },
        "id": "_B5xBFirTvQm",
        "outputId": "be9bebed-cb75-4016-9530-ad98897542db"
      },
      "execution_count": 15,
      "outputs": [
        {
          "output_type": "execute_result",
          "data": {
            "text/plain": [
              "-12"
            ]
          },
          "metadata": {},
          "execution_count": 15
        }
      ]
    },
    {
      "cell_type": "code",
      "source": [
        "np.linalg.det(A)"
      ],
      "metadata": {
        "colab": {
          "base_uri": "https://localhost:8080/"
        },
        "outputId": "d84a8d6a-f968-462f-efeb-c73d5fd28f20",
        "id": "bRyF2dsFLbXC"
      },
      "execution_count": 16,
      "outputs": [
        {
          "output_type": "execute_result",
          "data": {
            "text/plain": [
              "-12.0"
            ]
          },
          "metadata": {},
          "execution_count": 16
        }
      ]
    },
    {
      "cell_type": "code",
      "source": [
        "round(np.linalg.det(A))"
      ],
      "metadata": {
        "colab": {
          "base_uri": "https://localhost:8080/"
        },
        "outputId": "78970636-9b5c-48a8-aba5-ad6baabb0299",
        "id": "sOe1w9FPLbXD"
      },
      "execution_count": 17,
      "outputs": [
        {
          "output_type": "execute_result",
          "data": {
            "text/plain": [
              "-12"
            ]
          },
          "metadata": {},
          "execution_count": 17
        }
      ]
    },
    {
      "cell_type": "code",
      "source": [
        "n = 10\n",
        "\n",
        "A=np.random.randint(-10,10,size=(n,n))\n",
        "\n",
        "A"
      ],
      "metadata": {
        "colab": {
          "base_uri": "https://localhost:8080/"
        },
        "outputId": "5c18aecf-7297-495e-ef15-056b43e8f900",
        "id": "jzFX1soHGlak"
      },
      "execution_count": 18,
      "outputs": [
        {
          "output_type": "execute_result",
          "data": {
            "text/plain": [
              "array([[  5, -10,   6,  -9,   2,  -3,   3,  -4,   8,  -5],\n",
              "       [  8,   1,   0,   4,   8,  -6,  -1,   7, -10,   3],\n",
              "       [ -1,  -1,  -3,  -9, -10,   7,  -2,   3,   9,   5],\n",
              "       [  0,  -2,  -3,  -7,  -4,   7,  -7,  -6,   7,   1],\n",
              "       [  2,   6,   3,   9,  -1,   8,   5, -10,  -6,   5],\n",
              "       [ -8,  -3,  -2,  -1,  -7,  -3,  -6,  -5,   9,  -4],\n",
              "       [ -2, -10,  -8,   0,   5,   5,  -3,   9,   0,   4],\n",
              "       [-10,  -9,   7,   3,  -7, -10,   3,  -4,  -4,  -8],\n",
              "       [  2,   1,  -3,   3,  -2,   1,   2,   1,  -6,  -3],\n",
              "       [ -3,   3,  -6,   6,   8, -10,   3,   0,   7,  -3]])"
            ]
          },
          "metadata": {},
          "execution_count": 18
        }
      ]
    },
    {
      "cell_type": "code",
      "source": [
        "import time\n",
        "\n",
        "start_time = time.time()\n",
        "d = det(A)\n",
        "end_time = time.time()"
      ],
      "metadata": {
        "id": "I97qAqxGGlak"
      },
      "execution_count": 19,
      "outputs": []
    },
    {
      "cell_type": "code",
      "source": [
        "print(\"det(A): \",d)\n",
        "print(\"time: \",end_time - start_time)"
      ],
      "metadata": {
        "colab": {
          "base_uri": "https://localhost:8080/"
        },
        "id": "s7Ud-gBiTD0n",
        "outputId": "f05cfd4b-ae35-4678-acde-90a4ecfff4df"
      },
      "execution_count": 21,
      "outputs": [
        {
          "output_type": "stream",
          "name": "stdout",
          "text": [
            "det(A):  29129065307\n",
            "time:  36.63026404380798\n"
          ]
        }
      ]
    },
    {
      "cell_type": "code",
      "source": [
        "import time\n",
        "\n",
        "start_time = time.time()\n",
        "d = determinant(A)\n",
        "end_time = time.time()"
      ],
      "metadata": {
        "id": "kjLXFQOeTRd2"
      },
      "execution_count": 20,
      "outputs": []
    },
    {
      "cell_type": "code",
      "source": [
        "print(\"determinant(A): \",d)\n",
        "print(\"time: \",end_time - start_time)"
      ],
      "metadata": {
        "colab": {
          "base_uri": "https://localhost:8080/"
        },
        "id": "_TQFWy4ZSiDZ",
        "outputId": "fc0c56a6-0280-48ee-8f0c-32d471d83dcb"
      },
      "execution_count": 22,
      "outputs": [
        {
          "output_type": "stream",
          "name": "stdout",
          "text": [
            "determinant(A):  29129065307\n",
            "time:  36.63026404380798\n"
          ]
        }
      ]
    },
    {
      "cell_type": "code",
      "source": [
        "import time\n",
        "\n",
        "start_time = time.time()\n",
        "d = np.linalg.det(A)\n",
        "end_time = time.time()"
      ],
      "metadata": {
        "id": "jL23i77VT55-"
      },
      "execution_count": 23,
      "outputs": []
    },
    {
      "cell_type": "code",
      "source": [
        "print(\"np.linalg.det(A): \",d)\n",
        "print(\"time: \",end_time - start_time)"
      ],
      "metadata": {
        "colab": {
          "base_uri": "https://localhost:8080/"
        },
        "id": "n94nx14VT5wn",
        "outputId": "7668c995-c461-487c-f392-e2baa41d028d"
      },
      "execution_count": 24,
      "outputs": [
        {
          "output_type": "stream",
          "name": "stdout",
          "text": [
            "np.linalg.det(A):  29129065306.99992\n",
            "time:  0.0003323554992675781\n"
          ]
        }
      ]
    },
    {
      "cell_type": "markdown",
      "source": [
        "# Estimating the time by instruction in Python in a Colab machine"
      ],
      "metadata": {
        "id": "Ssedt2z56DNC"
      }
    },
    {
      "cell_type": "code",
      "source": [
        "import numpy as np\n",
        "\n",
        "n = 100\n",
        "\n",
        "A = np.ones((n,n))\n",
        "\n",
        "A"
      ],
      "metadata": {
        "colab": {
          "base_uri": "https://localhost:8080/"
        },
        "id": "1KhlyeNi4uwa",
        "outputId": "1ef5128a-ef32-465d-fb7c-dc8244dc842e"
      },
      "execution_count": 25,
      "outputs": [
        {
          "output_type": "execute_result",
          "data": {
            "text/plain": [
              "array([[1., 1., 1., ..., 1., 1., 1.],\n",
              "       [1., 1., 1., ..., 1., 1., 1.],\n",
              "       [1., 1., 1., ..., 1., 1., 1.],\n",
              "       ...,\n",
              "       [1., 1., 1., ..., 1., 1., 1.],\n",
              "       [1., 1., 1., ..., 1., 1., 1.],\n",
              "       [1., 1., 1., ..., 1., 1., 1.]])"
            ]
          },
          "metadata": {},
          "execution_count": 25
        }
      ]
    },
    {
      "cell_type": "code",
      "source": [
        "B = np.ones((n,n))\n",
        "\n",
        "B"
      ],
      "metadata": {
        "colab": {
          "base_uri": "https://localhost:8080/"
        },
        "id": "RKtHO3UY5M87",
        "outputId": "cc09441b-dcc6-4fe6-9194-b7aad334e09b"
      },
      "execution_count": 26,
      "outputs": [
        {
          "output_type": "execute_result",
          "data": {
            "text/plain": [
              "array([[1., 1., 1., ..., 1., 1., 1.],\n",
              "       [1., 1., 1., ..., 1., 1., 1.],\n",
              "       [1., 1., 1., ..., 1., 1., 1.],\n",
              "       ...,\n",
              "       [1., 1., 1., ..., 1., 1., 1.],\n",
              "       [1., 1., 1., ..., 1., 1., 1.],\n",
              "       [1., 1., 1., ..., 1., 1., 1.]])"
            ]
          },
          "metadata": {},
          "execution_count": 26
        }
      ]
    },
    {
      "cell_type": "code",
      "source": [
        "import time\n",
        "\n",
        "C= np.zeros((n,n))\n",
        "\n",
        "start_time = time.time()\n",
        "for i in range(n):\n",
        "        for j in range(n):\n",
        "            C[i][j] = 0\n",
        "            for k in range(len(A[0])):\n",
        "                C[i][j] += A[i][k] * B[k][j]\n",
        "end_time = time.time()\n",
        "print(end_time - start_time)"
      ],
      "metadata": {
        "colab": {
          "base_uri": "https://localhost:8080/"
        },
        "id": "0UFSLi-F5P0a",
        "outputId": "fc63d2a9-f2ea-4f5d-a69a-6bd24617a709"
      },
      "execution_count": 27,
      "outputs": [
        {
          "output_type": "stream",
          "name": "stdout",
          "text": [
            "1.1714811325073242\n"
          ]
        }
      ]
    },
    {
      "cell_type": "code",
      "source": [
        "C"
      ],
      "metadata": {
        "colab": {
          "base_uri": "https://localhost:8080/"
        },
        "id": "h9zr4Z9P61bs",
        "outputId": "6ac59944-80b7-4431-9850-5de70fe32a60"
      },
      "execution_count": 28,
      "outputs": [
        {
          "output_type": "execute_result",
          "data": {
            "text/plain": [
              "array([[100., 100., 100., ..., 100., 100., 100.],\n",
              "       [100., 100., 100., ..., 100., 100., 100.],\n",
              "       [100., 100., 100., ..., 100., 100., 100.],\n",
              "       ...,\n",
              "       [100., 100., 100., ..., 100., 100., 100.],\n",
              "       [100., 100., 100., ..., 100., 100., 100.],\n",
              "       [100., 100., 100., ..., 100., 100., 100.]])"
            ]
          },
          "metadata": {},
          "execution_count": 28
        }
      ]
    },
    {
      "cell_type": "code",
      "source": [
        "time_by_oper_python = (end_time - start_time)/(2*n**3 - n**2)\n",
        "\n",
        "time_by_oper_python"
      ],
      "metadata": {
        "colab": {
          "base_uri": "https://localhost:8080/"
        },
        "id": "iEhaMEK77Ko7",
        "outputId": "daa0b0c7-25bb-4f86-87c0-9c4a04d1f63b"
      },
      "execution_count": 29,
      "outputs": [
        {
          "output_type": "execute_result",
          "data": {
            "text/plain": [
              "5.88683986184585e-07"
            ]
          },
          "metadata": {},
          "execution_count": 29
        }
      ]
    },
    {
      "cell_type": "code",
      "source": [
        "import time\n",
        "import numpy as np\n",
        "\n",
        "start_time = time.time()\n",
        "C = A@B\n",
        "end_time = time.time()\n",
        "print(end_time - start_time)"
      ],
      "metadata": {
        "colab": {
          "base_uri": "https://localhost:8080/"
        },
        "id": "TfGsw6UF9o-a",
        "outputId": "5cb7c4a6-9c82-4803-a661-ba65fb801921"
      },
      "execution_count": 30,
      "outputs": [
        {
          "output_type": "stream",
          "name": "stdout",
          "text": [
            "0.005396604537963867\n"
          ]
        }
      ]
    },
    {
      "cell_type": "code",
      "source": [
        "C"
      ],
      "metadata": {
        "colab": {
          "base_uri": "https://localhost:8080/"
        },
        "id": "Q5MtZtVT93oQ",
        "outputId": "3a2764d5-d500-41d2-8f42-5b0e007707f8"
      },
      "execution_count": 31,
      "outputs": [
        {
          "output_type": "execute_result",
          "data": {
            "text/plain": [
              "array([[100., 100., 100., ..., 100., 100., 100.],\n",
              "       [100., 100., 100., ..., 100., 100., 100.],\n",
              "       [100., 100., 100., ..., 100., 100., 100.],\n",
              "       ...,\n",
              "       [100., 100., 100., ..., 100., 100., 100.],\n",
              "       [100., 100., 100., ..., 100., 100., 100.],\n",
              "       [100., 100., 100., ..., 100., 100., 100.]])"
            ]
          },
          "metadata": {},
          "execution_count": 31
        }
      ]
    },
    {
      "cell_type": "code",
      "source": [
        "time_by_oper_numpy = (end_time - start_time)/(2*n**3 - n**2)\n",
        "\n",
        "time_by_oper_numpy"
      ],
      "metadata": {
        "colab": {
          "base_uri": "https://localhost:8080/"
        },
        "id": "DTVYQYxT-TsJ",
        "outputId": "84e71ca9-76c4-42c8-d357-6d8b68628799"
      },
      "execution_count": 32,
      "outputs": [
        {
          "output_type": "execute_result",
          "data": {
            "text/plain": [
              "2.711861576866265e-09"
            ]
          },
          "metadata": {},
          "execution_count": 32
        }
      ]
    },
    {
      "cell_type": "markdown",
      "source": [
        "# Time estimation for the digital computer computation of a 3 x 3 matrix determinant by cofactor expansion\n",
        "\n",
        "The number of operations $(+,-,*)$ perfomed  *det(A)* algorithm that calculates\n",
        "\n",
        "$$\\det(A)  = \\sum_{j=1}^n (-1)^{i+j}a_{ij} \\det(A(i∣j)) $$\n",
        "\n",
        "is given by\n",
        "\n",
        "$$\\begin{array}{lll}\n",
        "T(n) & =&  nT(n-1) + 5n , T(1) = 1\\\\\n",
        "\\end{array}\n",
        "$$\n",
        "\n",
        "$$\\begin{array}{lll}\n",
        "T(n) & =&  nT(n-1) + 5n\\\\\n",
        "     & =&  n[(n-1) T(n-2) + 5 (n-1) +10] + 5n  \\\\\n",
        "     & =&  n(n-1) T(n-2) + 5 n  (n-1) + 5n \\\\\n",
        "     & =&  n(n-1) [(n-2) T(n-3) + 5 (n-2)] + 5 n(n-1) + 5n\\\\\n",
        "     & = & n(n-1)(n-2) T(n-3) + 5n(n-1)(n-2)+  5 n  (n-1) + 5n \\\\\n",
        "     & \\vdots\\\\\n",
        "     & = &  n(n-1)(n-2)\\cdots (n -(n-2))  T(1) + [5n(n-1)(n-2)(n-3)\\cdots (n -(n-3))] + \\cdots + [5 n (n-1)]+ 5n \\\\\n",
        "    & = & n! + [5n(n-1)(n-2)(n-3)\\cdots 2] + [5n(n-1)(n-2)(n-3)\\cdots 3]+ \\cdots +[5 n (n-1) (n-3)] + [5 n (n-1)]+ 5n  \n",
        "\\end{array}\n",
        "$$\n",
        "\n",
        "$$T(n) = n! + 5 \\sum_{i=0}^{n-1} n!/i! = n! + 5 n!\\sum_{i=0}^{n-1} \\frac{1}{i!} < n! + 5 e n! < 16 n!  $$\n",
        "\n",
        "1. Asumming that an arithmetic operation takes the *time_by_oper_python* estimated before,  what is the maximun square matrix size for which the deteminant can be computed with cofactor extesion in $\\le$ 3 minute. Report the time at [LABCramer](https://docs.google.com/spreadsheets/d/1JNUbuj3QHcyPmp8i6kNreUFucj2mOvKHkCFHHy7zfws/edit?usp=sharing).\n",
        "\n",
        "2. Run an experiment with a random matrix of that size and report the time at [LABCramer](https://docs.google.com/spreadsheets/d/1JNUbuj3QHcyPmp8i6kNreUFucj2mOvKHkCFHHy7zfws/edit?usp=sharing).\n",
        "\n",
        "If the determinant of a $n \\times n$ square matrix takes $16 n!$ operations how much takes the Crammer solution of $n \\times n$ systems of linear equations?\n",
        "\n",
        "\n",
        "\n",
        "\n"
      ],
      "metadata": {
        "id": "PhAai3wzo_Tc"
      }
    },
    {
      "cell_type": "markdown",
      "source": [
        "1.\n"
      ],
      "metadata": {
        "id": "ZG5yJGTzGxeG"
      }
    },
    {
      "cell_type": "code",
      "source": [
        "import math\n",
        "\n",
        "# Tiempo por operación en Python (en segundos)\n",
        "time_by_oper_python = 5.8 * 10**(-7)\n",
        "\n",
        "# Función para calcular el tiempo requerido para una matriz de tamaño n\n",
        "def compute_time(n):\n",
        "    factorial_n = math.factorial(n)\n",
        "    e_approx = math.e\n",
        "    return factorial_n + 5 * e_approx * factorial_n\n",
        "\n",
        "# Límite de tiempo en segundos (3 minutos)\n",
        "time_limit_seconds = 3 * 60\n",
        "\n",
        "# Encontrar el tamaño máximo de la matriz\n",
        "max_size = 1\n",
        "while True:\n",
        "    time_required = compute_time(max_size) * time_by_oper_python\n",
        "    if time_required > time_limit_seconds:\n",
        "        break\n",
        "    max_size += 1\n",
        "\n",
        "# Reportar el tamaño máximo y el tiempo requerido\n",
        "print(\"Tamaño máximo de matriz:\", max_size - 1)\n",
        "print(\"Tiempo requerido para este tamaño de matriz:\", compute_time(max_size - 1) * time_by_oper_python, \"segundos\")\n"
      ],
      "metadata": {
        "colab": {
          "base_uri": "https://localhost:8080/"
        },
        "id": "1GIYixURGxFx",
        "outputId": "62ee6943-ba99-4203-bfaa-37edbb0f2190"
      },
      "execution_count": 2,
      "outputs": [
        {
          "output_type": "stream",
          "name": "stdout",
          "text": [
            "Tamaño máximo de matriz: 10\n",
            "Tiempo requerido para este tamaño de matriz: 30.71059718742533 segundos\n"
          ]
        }
      ]
    },
    {
      "cell_type": "markdown",
      "source": [
        "2."
      ],
      "metadata": {
        "id": "Bg-80Mh_Hldt"
      }
    },
    {
      "cell_type": "code",
      "source": [
        "import numpy as np\n",
        "import time\n",
        "\n",
        "# Función para calcular el determinante utilizando la expansión del cofactor\n",
        "def cofactor_expansion_det(matrix):\n",
        "    size = len(matrix)\n",
        "    if size == 1:\n",
        "        return matrix[0, 0]\n",
        "    else:\n",
        "        determinant = 0\n",
        "        for j in range(size):\n",
        "            sub_matrix = np.delete(matrix, 0, axis=0)\n",
        "            sub_matrix = np.delete(sub_matrix, j, axis=1)\n",
        "            determinant += (-1) ** j * matrix[0, j] * cofactor_expansion_det(sub_matrix)\n",
        "        return determinant\n",
        "\n",
        "# Tamaño máximo de la matriz calculado anteriormente\n",
        "max_size = 10\n",
        "\n",
        "# Generar una matriz aleatoria del tamaño máximo\n",
        "random_matrix = np.random.rand(max_size, max_size)\n",
        "\n",
        "# Medir el tiempo para calcular el determinante de la matriz\n",
        "start_time = time.time()\n",
        "determinant = cofactor_expansion_det(random_matrix)\n",
        "end_time = time.time()\n",
        "elapsed_time = end_time - start_time\n",
        "\n",
        "# Reportar el tiempo y el determinante calculado\n",
        "print(\"Tiempo requerido para calcular el determinante:\", elapsed_time, \"segundos\")\n",
        "print(\"Determinante de la matriz aleatoria:\", determinant)"
      ],
      "metadata": {
        "colab": {
          "base_uri": "https://localhost:8080/"
        },
        "id": "D9kaclAAGwZG",
        "outputId": "5bc4294d-a655-433f-afaf-a986e1ec3b8a"
      },
      "execution_count": 4,
      "outputs": [
        {
          "output_type": "stream",
          "name": "stdout",
          "text": [
            "Tiempo requerido para calcular el determinante: 71.73675560951233 segundos\n",
            "Determinante de la matriz aleatoria: -0.02664613202899288\n"
          ]
        }
      ]
    },
    {
      "cell_type": "markdown",
      "source": [],
      "metadata": {
        "id": "1Q2_AgMR74mR"
      }
    },
    {
      "cell_type": "markdown",
      "source": [
        "# Time estimation for the human computer computation of a 3 x 3 matrix determinant by cofactor expansion\n",
        "\n",
        " Write a 3 x 3 matrix with the first element as your list number Mod 10 and the rest row by row 1,2,3,...9 skipimg the first element, by example if youir list number is 12, your list number Mod 10 is 2 and the matrix is\n",
        "$$A = \\left[\n",
        "  \\begin{array}{ccc}\n",
        "2 & 1 & 3\\\\\n",
        "4 & 5 & 6\\\\\n",
        "7 & 8 & 9\\\\\n",
        "\\end{array}\n",
        "\\right]\n",
        "$$\n",
        "Use a chronometer like http://online-stopwatch.chronme.com/ to estimate the time to compute the determinant by using the procedure in the follo wing exmaple (https://people.math.carleton.ca/~kcheung/math/notes/MATH1107/07/07_cofactor_expansion.html):<br />  \n",
        "Let\n",
        "$$A = \\begin{bmatrix} 1 & 2 & 3\\\\ 4 & 5 & 6\\\\ 7 & 8 & 9 \\end{bmatrix}$$\n",
        "we compute $\\det(A)$ by expanding along row $2$ as <br /> <br />\n",
        "$$\\begin{eqnarray} \\det(A) & = & (-1)^{2+1}A_{2,1}\\det(A(2 \\mid 1)) + (-1)^{2+2}A_{2,2}\\det(A(2 \\mid 2)) + (-1)^{2+3}A_{2,3}\\det(A(2 \\mid 3)) \\\\ & = & -4\\left|\\begin{matrix} 2 & 3 \\\\ 8 & 9\\end{matrix}\\right| + 5\\left|\\begin{matrix} 1 & 3 \\\\ 7 & 9\\end{matrix}\\right| - 6\\left|\\begin{matrix} 1 & 2 \\\\ 7 & 8\\end{matrix}\\right| \\\\ & = & -4(2\\cdot 9 - 3\\cdot 8) + 5(1 \\cdot 9- 3\\cdot 7) - 6(1\\cdot 8 - 2 \\cdot 7) \\\\ & = & 24 - 60 + 36 \\\\ & = & 0 \\end{eqnarray}$$\n",
        "3. Report the time at [LABCramer](https://docs.google.com/spreadsheets/d/1JNUbuj3QHcyPmp8i6kNreUFucj2mOvKHkCFHHy7zfws/edit?usp=sharing)\n",
        "4. Report the value of the determinant at [LABCramer](https://docs.google.com/spreadsheets/d/1JNUbuj3QHcyPmp8i6kNreUFucj2mOvKHkCFHHy7zfws/edit?usp=sharing)\n"
      ],
      "metadata": {
        "id": "__brdhGadAXY"
      }
    },
    {
      "cell_type": "markdown",
      "source": [
        "## My list number is 49 Mod 10 is 9\n",
        "\n",
        "Matrix\n",
        " is\n",
        "$$A = \\left[\n",
        "  \\begin{array}{ccc}\n",
        "9 & 1 & 2\\\\\n",
        "3 & 4 & 5\\\\\n",
        "6 & 7 & 8\\\\\n",
        "\\end{array}\n",
        "\\right]\n",
        "$$\n",
        "\n"
      ],
      "metadata": {
        "id": "bl-FJ4X2Ia-e"
      }
    },
    {
      "cell_type": "markdown",
      "source": [
        "##3. Report the time"
      ],
      "metadata": {
        "id": "gkZ06w_IPvF4"
      }
    },
    {
      "cell_type": "markdown",
      "source": [
        "3.![image.png](data:image/png;base64,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)"
      ],
      "metadata": {
        "id": "E6E2i5BcMjYc"
      }
    },
    {
      "cell_type": "markdown",
      "source": [
        "## 4. Valor del determinante= -27"
      ],
      "metadata": {
        "id": "Krq6yverMjLl"
      }
    }
  ]
}